{
 "cells": [
  {
   "cell_type": "code",
   "execution_count": 3,
   "id": "ef06c2fb",
   "metadata": {},
   "outputs": [],
   "source": [
    "import zarr\n",
    "import numpy as np"
   ]
  },
  {
   "cell_type": "code",
   "execution_count": 4,
   "id": "cc55942c",
   "metadata": {},
   "outputs": [],
   "source": [
    "neighorhoods = np.load('/Users/swarchol/Harvard Drive/Ton/neighborhoods_l1.npy')"
   ]
  },
  {
   "cell_type": "code",
   "execution_count": 24,
   "id": "4c221328",
   "metadata": {},
   "outputs": [],
   "source": [
    "vector = np.array([[8.1540382e-04, 3.9709579e-02, 1.4407935e-02, 1.1489777e-02, 2.8565144e-02, 1.1935548e-02, 4.6498108e-06, 2.4095343e-03, 1.2424163e-03, 5.2912310e-02, 6.4965291e-03, 7.6625217e-03, 8.2234865e-01]])"
   ]
  },
  {
   "cell_type": "code",
   "execution_count": 25,
   "id": "ac976c31",
   "metadata": {},
   "outputs": [
    {
     "data": {
      "text/plain": [
       "array([1.08425639, 1.05781343, 1.14343529, ..., 0.19324473, 0.19324473,\n",
       "       0.19324473])"
      ]
     },
     "execution_count": 25,
     "metadata": {},
     "output_type": "execute_result"
    }
   ],
   "source": [
    "(np.sqrt(np.sum((neighorhoods - vector) ** 2, axis=1)))"
   ]
  },
  {
   "cell_type": "code",
   "execution_count": 26,
   "id": "0f6d093f",
   "metadata": {},
   "outputs": [
    {
     "data": {
      "text/plain": [
       "array([0.47978742, 0.4859527 , 0.46654079, ..., 0.83805105, 0.83805105,\n",
       "       0.83805105])"
      ]
     },
     "execution_count": 26,
     "metadata": {},
     "output_type": "execute_result"
    }
   ],
   "source": [
    "1.0 / ((np.sqrt(np.sum((neighorhoods - vector) ** 2, axis=1))) + 1.0)"
   ]
  },
  {
   "cell_type": "code",
   "execution_count": 27,
   "id": "2cf81e90",
   "metadata": {},
   "outputs": [
    {
     "data": {
      "text/plain": [
       "(1, 1376405, 13)"
      ]
     },
     "execution_count": 27,
     "metadata": {},
     "output_type": "execute_result"
    }
   ],
   "source": [
    "dim_neighborhoods = neighorhoods[ np.newaxis,... ]\n",
    "dim_neighborhoods.shape"
   ]
  },
  {
   "cell_type": "code",
   "execution_count": 28,
   "id": "fa8f108d",
   "metadata": {},
   "outputs": [],
   "source": [
    "subs = dim_neighborhoods - vector"
   ]
  },
  {
   "cell_type": "code",
   "execution_count": 31,
   "id": "4a3d9790",
   "metadata": {},
   "outputs": [],
   "source": [
    "test = 1 / (1 + np.sqrt(np.einsum('ijk,ijk->ij', subs, subs)))"
   ]
  },
  {
   "cell_type": "code",
   "execution_count": 49,
   "id": "5f3f9347",
   "metadata": {},
   "outputs": [
    {
     "data": {
      "text/plain": [
       "(1, 1376405)"
      ]
     },
     "execution_count": 49,
     "metadata": {},
     "output_type": "execute_result"
    }
   ],
   "source": [
    "test.shape"
   ]
  },
  {
   "cell_type": "code",
   "execution_count": 45,
   "id": "ba19bc3d",
   "metadata": {},
   "outputs": [
    {
     "data": {
      "text/plain": [
       "(2, 1376405)"
      ]
     },
     "execution_count": 45,
     "metadata": {},
     "output_type": "execute_result"
    }
   ],
   "source": [
    "test2 = np.vstack((test,test))\n",
    "test2.shape"
   ]
  },
  {
   "cell_type": "code",
   "execution_count": 47,
   "id": "2d85b511",
   "metadata": {},
   "outputs": [
    {
     "data": {
      "text/plain": [
       "array([0, 0, 0, ..., 1, 1, 1])"
      ]
     },
     "execution_count": 47,
     "metadata": {},
     "output_type": "execute_result"
    }
   ],
   "source": [
    "np.where(test2 > 0.8)[0]"
   ]
  },
  {
   "cell_type": "code",
   "execution_count": 40,
   "id": "be4a674c",
   "metadata": {},
   "outputs": [
    {
     "data": {
      "text/plain": [
       "(array([    105,     199,     303, ..., 1376402, 1376403, 1376404]),)"
      ]
     },
     "execution_count": 40,
     "metadata": {},
     "output_type": "execute_result"
    }
   ],
   "source": [
    "np.where(test.flatten() > 0.8)"
   ]
  },
  {
   "cell_type": "code",
   "execution_count": 21,
   "id": "71efc382",
   "metadata": {},
   "outputs": [
    {
     "ename": "NameError",
     "evalue": "name 'neighborhood' is not defined",
     "output_type": "error",
     "traceback": [
      "\u001b[0;31m---------------------------------------------------------------------------\u001b[0m",
      "\u001b[0;31mNameError\u001b[0m                                 Traceback (most recent call last)",
      "\u001b[0;32m/var/folders/ps/x7v31pds3gn4t11djwg0t03h0000gp/T/ipykernel_71182/3780919993.py\u001b[0m in \u001b[0;36m<module>\u001b[0;34m\u001b[0m\n\u001b[0;32m----> 1\u001b[0;31m \u001b[0mneighborhood\u001b[0m\u001b[0;34m\u001b[0m\u001b[0;34m\u001b[0m\u001b[0m\n\u001b[0m",
      "\u001b[0;31mNameError\u001b[0m: name 'neighborhood' is not defined"
     ]
    }
   ],
   "source": [
    "neighborhood"
   ]
  },
  {
   "cell_type": "code",
   "execution_count": 23,
   "id": "c64a7232",
   "metadata": {},
   "outputs": [
    {
     "data": {
      "text/plain": [
       "array([0.03175348, 0.        , 0.        , 0.64412102, 0.        ,\n",
       "       0.14937726, 0.        , 0.        , 0.        , 0.02896027,\n",
       "       0.14578797, 0.        , 0.        ])"
      ]
     },
     "execution_count": 23,
     "metadata": {},
     "output_type": "execute_result"
    }
   ],
   "source": [
    "neighorhoods[1,:]"
   ]
  },
  {
   "cell_type": "code",
   "execution_count": null,
   "id": "52c0599a",
   "metadata": {},
   "outputs": [],
   "source": []
  }
 ],
 "metadata": {
  "kernelspec": {
   "display_name": "Python [conda env:jupyter]",
   "language": "python",
   "name": "conda-env-jupyter-py"
  },
  "language_info": {
   "codemirror_mode": {
    "name": "ipython",
    "version": 3
   },
   "file_extension": ".py",
   "mimetype": "text/x-python",
   "name": "python",
   "nbconvert_exporter": "python",
   "pygments_lexer": "ipython3",
   "version": "3.8.12"
  }
 },
 "nbformat": 4,
 "nbformat_minor": 5
}
