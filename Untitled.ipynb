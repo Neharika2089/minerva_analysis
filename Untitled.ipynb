{
 "cells": [
  {
   "cell_type": "code",
   "execution_count": 11,
   "id": "3a92097a",
   "metadata": {},
   "outputs": [],
   "source": [
    "import tifffile as tf\n",
    "import zarr\n"
   ]
  },
  {
   "cell_type": "code",
   "execution_count": 12,
   "id": "35b3f68f",
   "metadata": {},
   "outputs": [],
   "source": [
    "channel_path = '/Volumes/sorger/data/RareCyte/Giorgio/Mouse KP Lung CycIF Master Folder/2019-09 KP LucOS Cxcl10/PREPROCESSING/CYCIF_OMETIFFS/MLB_266_1-cycif.ome.tif'\n",
    "channel_path_1 = '/Volumes/sorger/data/RareCyte/Giorgio/Mouse KP Lung CycIF Master Folder/2019-09 KP LucOS Cxcl10/PREPROCESSING/CYCIF_OMETIFFS/MLB_267_6-cycif.ome.tif'"
   ]
  },
  {
   "cell_type": "code",
   "execution_count": 13,
   "id": "384500fb",
   "metadata": {},
   "outputs": [],
   "source": [
    "channel_io = tf.TiffFile(channel_path, is_ome=False)\n",
    "channel_io_1 = tf.TiffFile(channel_path_1, is_ome=False)"
   ]
  },
  {
   "cell_type": "code",
   "execution_count": 14,
   "id": "02101eba",
   "metadata": {},
   "outputs": [],
   "source": [
    "channels = zarr.open(channel_io.series[0].aszarr())\n",
    "channels_1 = zarr.open(channel_io_1.series[0].aszarr())"
   ]
  },
  {
   "cell_type": "code",
   "execution_count": 15,
   "id": "5260b068",
   "metadata": {},
   "outputs": [],
   "source": [
    "root = zarr.group()\n",
    "root.create_group('root')\n",
    "root['test'] = channels\n",
    "root['test_1'] = channels_1"
   ]
  },
  {
   "cell_type": "code",
   "execution_count": 17,
   "id": "db3851d1",
   "metadata": {},
   "outputs": [
    {
     "data": {
      "text/plain": [
       "<zarr.core.Array '/test_1' (7,) <U1>"
      ]
     },
     "execution_count": 17,
     "metadata": {},
     "output_type": "execute_result"
    }
   ],
   "source": [
    "root['test']\n",
    "root['test_1']"
   ]
  },
  {
   "cell_type": "code",
   "execution_count": null,
   "id": "c5a315e5",
   "metadata": {},
   "outputs": [],
   "source": []
  }
 ],
 "metadata": {
  "kernelspec": {
   "display_name": "Python [conda env:jupyter]",
   "language": "python",
   "name": "conda-env-jupyter-py"
  },
  "language_info": {
   "codemirror_mode": {
    "name": "ipython",
    "version": 3
   },
   "file_extension": ".py",
   "mimetype": "text/x-python",
   "name": "python",
   "nbconvert_exporter": "python",
   "pygments_lexer": "ipython3",
   "version": "3.8.11"
  }
 },
 "nbformat": 4,
 "nbformat_minor": 5
}
