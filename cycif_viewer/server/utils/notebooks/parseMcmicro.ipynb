{
 "cells": [
  {
   "cell_type": "code",
   "execution_count": null,
   "metadata": {},
   "outputs": [],
   "source": [
    "import pandas as pd\n",
    "\n",
    "data = pd.read_csv('./unmicst-WD-76845-097-ij_subtracted_50.csv', encoding=\"utf-8-sig\")\n",
    "data.head()"
   ]
  },
  {
   "cell_type": "code",
   "execution_count": 2,
   "metadata": {},
   "outputs": [
    {
     "data": {
      "text/plain": [
       "Index(['CellID', 'Hoechst0_cellRingMask', 'AF488_cellRingMask',\n",
       "       'AF555_cellRingMask', 'AF647_cellRingMask', 'Hoechst1_cellRingMask',\n",
       "       'A488_cellRingMask', 'A555_cellRingMask', 'A647_cellRingMask',\n",
       "       'Hoechst2_cellRingMask',\n",
       "       ...\n",
       "       'LaminABC_488_nucleiRingMask', 'Desmin_555_nucleiRingMask',\n",
       "       'CD31_647_nucleiRingMask', 'Hoechst9_nucleiRingMask',\n",
       "       'PCNA_488_nucleiRingMask', 'Ki67_570_nucleiRingMask',\n",
       "       'CollagenIV_647_nucleiRingMask', 'HE_r', 'HE_g', 'HE_b'],\n",
       "      dtype='object', length=135)"
      ]
     },
     "execution_count": 2,
     "metadata": {},
     "output_type": "execute_result"
    }
   ],
   "source": [
    "data['HE_r'] = 0\n",
    "data['HE_g'] = 0\n",
    "data['HE_b'] = 0\n",
    "data.columns"
   ]
  },
  {
   "cell_type": "code",
   "execution_count": 4,
   "metadata": {},
   "outputs": [],
   "source": [
    "data.to_csv('./unmicst-WD-76845-097-ij_subtracted_50-jj.csv', index=False)"
   ]
  },
  {
   "cell_type": "code",
   "execution_count": null,
   "metadata": {},
   "outputs": [],
   "source": []
  }
 ],
 "metadata": {
  "kernelspec": {
   "display_name": "Python 3",
   "language": "python",
   "name": "python3"
  },
  "language_info": {
   "codemirror_mode": {
    "name": "ipython",
    "version": 3
   },
   "file_extension": ".py",
   "mimetype": "text/x-python",
   "name": "python",
   "nbconvert_exporter": "python",
   "pygments_lexer": "ipython3",
   "version": "3.7.8"
  }
 },
 "nbformat": 4,
 "nbformat_minor": 1
}
